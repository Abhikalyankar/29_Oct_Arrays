{
 "cells": [
  {
   "cell_type": "markdown",
   "id": "d000909c-4cc7-43bd-88cc-06bc93b24ba1",
   "metadata": {},
   "source": [
    "# Arrays"
   ]
  },
  {
   "cell_type": "markdown",
   "id": "b0bf0a10-6583-472d-b5b9-a99254a3cd9b",
   "metadata": {},
   "source": [
    "### 1. Given an array, check if it contains any duplicates or not.\n",
    "### arr = [1, 2, 4, 2, 5, 9]\n",
    "### Output = True"
   ]
  },
  {
   "cell_type": "code",
   "execution_count": 1,
   "id": "fe739312-2478-4174-ae31-d80439488db9",
   "metadata": {},
   "outputs": [
    {
     "name": "stdout",
     "output_type": "stream",
     "text": [
      "True\n"
     ]
    }
   ],
   "source": [
    "def contains_duplicates(arr):\n",
    "    return len(arr) != len(set(arr))\n",
    "\n",
    "# Example\n",
    "arr = [1, 2, 4, 2, 5, 9]\n",
    "print(contains_duplicates(arr))  # Output: True\n"
   ]
  },
  {
   "cell_type": "code",
   "execution_count": null,
   "id": "6b6eedd5-9e33-4ce9-8f29-a048263de318",
   "metadata": {},
   "outputs": [],
   "source": []
  },
  {
   "cell_type": "markdown",
   "id": "6987c18c-8880-47d7-b11a-fc357792adf2",
   "metadata": {},
   "source": [
    "### 2. Given an array and an integer k, rotate the array to the right by k steps.\n",
    "### arr = [1, 2, 3, 4, 5, 6, 7] k = 3\n",
    "### Output = [5, 6, 7, 1, 2, 3, 4]"
   ]
  },
  {
   "cell_type": "code",
   "execution_count": 1,
   "id": "d19bd9d4-de31-4b64-93e8-babb34a3ec26",
   "metadata": {},
   "outputs": [
    {
     "name": "stdout",
     "output_type": "stream",
     "text": [
      "[5, 6, 7, 1, 2, 3, 4]\n"
     ]
    }
   ],
   "source": [
    "def rotate_array(arr, k):\n",
    "    k = k % len(arr)\n",
    "    arr[:] = arr[-k:] + arr[:-k]\n",
    "    \n",
    "arr = [1,2,3,4,5,6,7]\n",
    "k = 3\n",
    "\n",
    "rotate_array(arr,k)\n",
    "print(arr)"
   ]
  },
  {
   "cell_type": "code",
   "execution_count": null,
   "id": "391f19f3-9afd-428d-a258-cb59ef47852d",
   "metadata": {},
   "outputs": [],
   "source": []
  },
  {
   "cell_type": "markdown",
   "id": "3d9e38bf-46b9-4b6f-bac2-76309106bbe1",
   "metadata": {},
   "source": [
    "### 3. Reverse the given array in-place, means without using any extra data structure.\n",
    "### arr = [2, 4, 5, 7, 9, 12]\n",
    "### Output = [12, 9, 7, 5, 4, 2]"
   ]
  },
  {
   "cell_type": "code",
   "execution_count": 4,
   "id": "4528bbb6-a10b-422c-ab3e-8986c479e071",
   "metadata": {},
   "outputs": [
    {
     "name": "stdout",
     "output_type": "stream",
     "text": [
      "[12, 9, 7, 5, 4, 2]\n"
     ]
    }
   ],
   "source": [
    "def reverse(arr):\n",
    "    arr[:] = arr[::-1]\n",
    "    \n",
    "arr = [2,4,5,7,9,12]\n",
    "\n",
    "reverse(arr)\n",
    "print(arr)"
   ]
  },
  {
   "cell_type": "code",
   "execution_count": null,
   "id": "be4b8ad7-f7b4-44e6-ab25-91566f89611d",
   "metadata": {},
   "outputs": [],
   "source": []
  },
  {
   "cell_type": "markdown",
   "id": "1e3fac76-7f54-43c0-bbf4-89a5a3006ff0",
   "metadata": {},
   "source": [
    "### 4. Given an array of integers, find the maximum element in an array\n",
    "### arr = [10, 5, 20, 8, 15]\n",
    "### Output = 20"
   ]
  },
  {
   "cell_type": "code",
   "execution_count": 12,
   "id": "0e2baa7e-2bfe-4b2a-9e38-ff6952ca6c8f",
   "metadata": {},
   "outputs": [
    {
     "name": "stdout",
     "output_type": "stream",
     "text": [
      "20\n"
     ]
    }
   ],
   "source": [
    "arr = [10,5,20,8,15]\n",
    "arr.sort()\n",
    "\n",
    "print(arr[-1])"
   ]
  },
  {
   "cell_type": "code",
   "execution_count": null,
   "id": "b69df4c1-85de-4ed5-bcc5-ddacb089f468",
   "metadata": {},
   "outputs": [],
   "source": []
  },
  {
   "cell_type": "markdown",
   "id": "206442ce-b511-404b-a4e3-b5ce2bb40124",
   "metadata": {},
   "source": [
    "### 5. Given a sorted array, remove the duplicate element without using any extra data structure.\n",
    "### arr = [1, 1, 2, 2, 2, 3, 3, 4, 4, 4, 5, 5]\n",
    "### Output = [1, 2, 3, 4, 5]"
   ]
  },
  {
   "cell_type": "code",
   "execution_count": null,
   "id": "8681085d-06f0-47ee-8dd4-540ed6f601bb",
   "metadata": {},
   "outputs": [],
   "source": []
  }
 ],
 "metadata": {
  "kernelspec": {
   "display_name": "Python 3 (ipykernel)",
   "language": "python",
   "name": "python3"
  },
  "language_info": {
   "codemirror_mode": {
    "name": "ipython",
    "version": 3
   },
   "file_extension": ".py",
   "mimetype": "text/x-python",
   "name": "python",
   "nbconvert_exporter": "python",
   "pygments_lexer": "ipython3",
   "version": "3.10.8"
  }
 },
 "nbformat": 4,
 "nbformat_minor": 5
}
